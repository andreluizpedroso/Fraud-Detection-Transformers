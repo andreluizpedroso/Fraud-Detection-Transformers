import numpy as np
import tensorflow as tf
from transformers import BertTokenizer, TFBertForSequenceClassification
import os

# Carregando o modelo BERT pré-treinado para classificação de textos
model_name = "bert-base-uncased"
tokenizer = BertTokenizer.from_pretrained(model_name)
model = TFBertForSequenceClassification.from_pretrained(model_name, num_labels=2)  # 2 classes: fraude ou legítimo

# Função para pré-processar o texto
def preprocess_text(text):
    """
    Tokeniza e prepara o texto para entrada no modelo BERT.
    """
    inputs = tokenizer(text, padding=True, truncation=True, return_tensors="tf")
    return inputs

# Função para detectar fraudes em textos de sinistros
def detect_fraudulent_claim(text):
    """
    Analisa um relato de sinistro e identifica se há suspeita de fraude.
    """
    inputs = preprocess_text(text)
    outputs = model(**inputs)
    logits = outputs.logits
    prediction = tf.nn.softmax(logits, axis=1)
    class_index = tf.argmax(prediction, axis=1).numpy()[0]
    return "Fraude Detectada" if class_index == 1 else "Sinistro Legítimo"

# Exemplo de uso com um relato de sinistro
example_claim = "O carro foi roubado, mas não há boletim de ocorrência disponível."
resultado = detect_fraudulent_claim(example_claim)
print(resultado)
